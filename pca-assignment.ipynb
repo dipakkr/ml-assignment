{
 "cells": [
  {
   "cell_type": "code",
   "execution_count": 1,
   "metadata": {},
   "outputs": [],
   "source": [
    "import pandas as pd\n",
    "import numpy as np\n",
    "import matplotlib.pyplot as plt\n",
    "from sklearn.decomposition import PCA\n",
    "from sklearn import preprocessing"
   ]
  },
  {
   "cell_type": "code",
   "execution_count": 2,
   "metadata": {},
   "outputs": [],
   "source": [
    "# Importing Gene Data and Meta Data \n",
    "\n",
    "df_gene = pd.read_csv(\"g-data.csv\")\n",
    "df_meta = pd.read_csv('meta-data.csv')\n",
    "\n",
    "x = df_gene"
   ]
  },
  {
   "cell_type": "code",
   "execution_count": 3,
   "metadata": {},
   "outputs": [
    {
     "data": {
      "text/html": [
       "<div>\n",
       "<style scoped>\n",
       "    .dataframe tbody tr th:only-of-type {\n",
       "        vertical-align: middle;\n",
       "    }\n",
       "\n",
       "    .dataframe tbody tr th {\n",
       "        vertical-align: top;\n",
       "    }\n",
       "\n",
       "    .dataframe thead th {\n",
       "        text-align: right;\n",
       "    }\n",
       "</style>\n",
       "<table border=\"1\" class=\"dataframe\">\n",
       "  <thead>\n",
       "    <tr style=\"text-align: right;\">\n",
       "      <th></th>\n",
       "      <th>Unnamed: 0</th>\n",
       "      <th>symbol</th>\n",
       "      <th>S1</th>\n",
       "      <th>S2</th>\n",
       "      <th>S3</th>\n",
       "      <th>S4</th>\n",
       "      <th>S5</th>\n",
       "      <th>S6</th>\n",
       "      <th>S7</th>\n",
       "      <th>S8</th>\n",
       "      <th>...</th>\n",
       "      <th>S21</th>\n",
       "      <th>S22</th>\n",
       "      <th>S23</th>\n",
       "      <th>S24</th>\n",
       "      <th>S25</th>\n",
       "      <th>S26</th>\n",
       "      <th>S27</th>\n",
       "      <th>S28</th>\n",
       "      <th>S29</th>\n",
       "      <th>S30</th>\n",
       "    </tr>\n",
       "  </thead>\n",
       "  <tbody>\n",
       "    <tr>\n",
       "      <th>0</th>\n",
       "      <td>1</td>\n",
       "      <td>Zzz3</td>\n",
       "      <td>253.401685</td>\n",
       "      <td>402.850878</td>\n",
       "      <td>230.957463</td>\n",
       "      <td>688.486264</td>\n",
       "      <td>358.067836</td>\n",
       "      <td>344.962350</td>\n",
       "      <td>441.155001</td>\n",
       "      <td>301.149694</td>\n",
       "      <td>...</td>\n",
       "      <td>507.882774</td>\n",
       "      <td>465.081486</td>\n",
       "      <td>415.478767</td>\n",
       "      <td>297.061149</td>\n",
       "      <td>488.848114</td>\n",
       "      <td>367.912141</td>\n",
       "      <td>307.199908</td>\n",
       "      <td>347.802509</td>\n",
       "      <td>411.227261</td>\n",
       "      <td>283.709694</td>\n",
       "    </tr>\n",
       "    <tr>\n",
       "      <th>1</th>\n",
       "      <td>2</td>\n",
       "      <td>Zzef1</td>\n",
       "      <td>21.152797</td>\n",
       "      <td>21.152797</td>\n",
       "      <td>21.152797</td>\n",
       "      <td>21.152797</td>\n",
       "      <td>21.152797</td>\n",
       "      <td>21.152797</td>\n",
       "      <td>21.152797</td>\n",
       "      <td>21.152797</td>\n",
       "      <td>...</td>\n",
       "      <td>21.152797</td>\n",
       "      <td>21.152797</td>\n",
       "      <td>21.152797</td>\n",
       "      <td>21.152797</td>\n",
       "      <td>21.152797</td>\n",
       "      <td>21.152797</td>\n",
       "      <td>21.152797</td>\n",
       "      <td>21.152797</td>\n",
       "      <td>21.152797</td>\n",
       "      <td>21.152797</td>\n",
       "    </tr>\n",
       "    <tr>\n",
       "      <th>2</th>\n",
       "      <td>3</td>\n",
       "      <td>Zyx</td>\n",
       "      <td>40.578958</td>\n",
       "      <td>49.235160</td>\n",
       "      <td>59.472005</td>\n",
       "      <td>46.212152</td>\n",
       "      <td>61.969671</td>\n",
       "      <td>55.732843</td>\n",
       "      <td>53.819870</td>\n",
       "      <td>54.315691</td>\n",
       "      <td>...</td>\n",
       "      <td>33.512262</td>\n",
       "      <td>36.751853</td>\n",
       "      <td>36.952457</td>\n",
       "      <td>35.718610</td>\n",
       "      <td>27.346198</td>\n",
       "      <td>32.647887</td>\n",
       "      <td>42.006833</td>\n",
       "      <td>32.324596</td>\n",
       "      <td>41.426033</td>\n",
       "      <td>32.754971</td>\n",
       "    </tr>\n",
       "    <tr>\n",
       "      <th>3</th>\n",
       "      <td>4</td>\n",
       "      <td>Zyg11b</td>\n",
       "      <td>26.373102</td>\n",
       "      <td>35.001901</td>\n",
       "      <td>32.389728</td>\n",
       "      <td>34.932372</td>\n",
       "      <td>35.192365</td>\n",
       "      <td>33.858459</td>\n",
       "      <td>27.948378</td>\n",
       "      <td>21.152797</td>\n",
       "      <td>...</td>\n",
       "      <td>21.152797</td>\n",
       "      <td>21.152797</td>\n",
       "      <td>21.152797</td>\n",
       "      <td>21.152797</td>\n",
       "      <td>21.152797</td>\n",
       "      <td>21.152797</td>\n",
       "      <td>21.152797</td>\n",
       "      <td>21.152797</td>\n",
       "      <td>21.152797</td>\n",
       "      <td>21.152797</td>\n",
       "    </tr>\n",
       "    <tr>\n",
       "      <th>4</th>\n",
       "      <td>5</td>\n",
       "      <td>Zyg11a</td>\n",
       "      <td>21.152797</td>\n",
       "      <td>21.152797</td>\n",
       "      <td>21.152797</td>\n",
       "      <td>21.152797</td>\n",
       "      <td>21.152797</td>\n",
       "      <td>21.152797</td>\n",
       "      <td>21.152797</td>\n",
       "      <td>21.152797</td>\n",
       "      <td>...</td>\n",
       "      <td>21.152797</td>\n",
       "      <td>21.152797</td>\n",
       "      <td>21.152797</td>\n",
       "      <td>21.152797</td>\n",
       "      <td>21.152797</td>\n",
       "      <td>21.152797</td>\n",
       "      <td>21.152797</td>\n",
       "      <td>21.152797</td>\n",
       "      <td>21.152797</td>\n",
       "      <td>21.152797</td>\n",
       "    </tr>\n",
       "  </tbody>\n",
       "</table>\n",
       "<p>5 rows × 32 columns</p>\n",
       "</div>"
      ],
      "text/plain": [
       "   Unnamed: 0  symbol          S1          S2          S3          S4  \\\n",
       "0           1    Zzz3  253.401685  402.850878  230.957463  688.486264   \n",
       "1           2   Zzef1   21.152797   21.152797   21.152797   21.152797   \n",
       "2           3     Zyx   40.578958   49.235160   59.472005   46.212152   \n",
       "3           4  Zyg11b   26.373102   35.001901   32.389728   34.932372   \n",
       "4           5  Zyg11a   21.152797   21.152797   21.152797   21.152797   \n",
       "\n",
       "           S5          S6          S7          S8     ...             S21  \\\n",
       "0  358.067836  344.962350  441.155001  301.149694     ...      507.882774   \n",
       "1   21.152797   21.152797   21.152797   21.152797     ...       21.152797   \n",
       "2   61.969671   55.732843   53.819870   54.315691     ...       33.512262   \n",
       "3   35.192365   33.858459   27.948378   21.152797     ...       21.152797   \n",
       "4   21.152797   21.152797   21.152797   21.152797     ...       21.152797   \n",
       "\n",
       "          S22         S23         S24         S25         S26         S27  \\\n",
       "0  465.081486  415.478767  297.061149  488.848114  367.912141  307.199908   \n",
       "1   21.152797   21.152797   21.152797   21.152797   21.152797   21.152797   \n",
       "2   36.751853   36.952457   35.718610   27.346198   32.647887   42.006833   \n",
       "3   21.152797   21.152797   21.152797   21.152797   21.152797   21.152797   \n",
       "4   21.152797   21.152797   21.152797   21.152797   21.152797   21.152797   \n",
       "\n",
       "          S28         S29         S30  \n",
       "0  347.802509  411.227261  283.709694  \n",
       "1   21.152797   21.152797   21.152797  \n",
       "2   32.324596   41.426033   32.754971  \n",
       "3   21.152797   21.152797   21.152797  \n",
       "4   21.152797   21.152797   21.152797  \n",
       "\n",
       "[5 rows x 32 columns]"
      ]
     },
     "execution_count": 3,
     "metadata": {},
     "output_type": "execute_result"
    }
   ],
   "source": [
    "x.head()"
   ]
  },
  {
   "cell_type": "code",
   "execution_count": 4,
   "metadata": {},
   "outputs": [
    {
     "data": {
      "text/plain": [
       "Unnamed: 0    False\n",
       "symbol        False\n",
       "S1            False\n",
       "S2            False\n",
       "S3            False\n",
       "S4            False\n",
       "S5            False\n",
       "S6            False\n",
       "S7            False\n",
       "S8            False\n",
       "S9            False\n",
       "S10           False\n",
       "S11           False\n",
       "S12           False\n",
       "S13           False\n",
       "S14           False\n",
       "S15           False\n",
       "S16           False\n",
       "S17           False\n",
       "S18           False\n",
       "S19           False\n",
       "S20           False\n",
       "S21            True\n",
       "S22           False\n",
       "S23           False\n",
       "S24           False\n",
       "S25           False\n",
       "S26           False\n",
       "S27           False\n",
       "S28           False\n",
       "S29           False\n",
       "S30           False\n",
       "dtype: bool"
      ]
     },
     "execution_count": 4,
     "metadata": {},
     "output_type": "execute_result"
    }
   ],
   "source": [
    "x.isnull().any()"
   ]
  },
  {
   "cell_type": "code",
   "execution_count": 5,
   "metadata": {},
   "outputs": [],
   "source": [
    "# DATA CLEANING\n",
    "\n",
    "# fill S21 null value with mean.\n",
    "x = x.fillna(x['S21'].mean())\n",
    "\n",
    "#drop symbol and serial no. \n",
    "x = x.drop(['symbol', 'Unnamed: 0'], axis=1)"
   ]
  },
  {
   "cell_type": "code",
   "execution_count": 6,
   "metadata": {},
   "outputs": [
    {
     "data": {
      "text/plain": [
       "141.6027093779768"
      ]
     },
     "execution_count": 6,
     "metadata": {},
     "output_type": "execute_result"
    }
   ],
   "source": [
    "x['S2'].mean()"
   ]
  },
  {
   "cell_type": "code",
   "execution_count": 7,
   "metadata": {},
   "outputs": [
    {
     "data": {
      "text/plain": [
       "232.60776410468785"
      ]
     },
     "execution_count": 7,
     "metadata": {},
     "output_type": "execute_result"
    }
   ],
   "source": [
    "x['S13'].mean()"
   ]
  },
  {
   "cell_type": "code",
   "execution_count": 8,
   "metadata": {},
   "outputs": [
    {
     "name": "stderr",
     "output_type": "stream",
     "text": [
      "/home/deepak/anaconda3/lib/python3.6/site-packages/sklearn/preprocessing/data.py:181: UserWarning: Numerical issues were encountered when scaling the data and might not be solved. The standard deviation of the data is probably very close to 0. \n",
      "  warnings.warn(\"Numerical issues were encountered \"\n"
     ]
    },
    {
     "data": {
      "text/plain": [
       "(30, 30)"
      ]
     },
     "execution_count": 8,
     "metadata": {},
     "output_type": "execute_result"
    }
   ],
   "source": [
    "#Scale the DATA\n",
    "scaled_data = preprocessing.scale(x.T)\n",
    "\n",
    "# create PCA\n",
    "pca = PCA()\n",
    "\n",
    "#fit scaled data\n",
    "pca.fit(scaled_data) \n",
    "\n",
    "# Transform on Principal Components\n",
    "pca_data = pca.transform(scaled_data) \n",
    "\n",
    "# PCA TRANSFORMED DATA SHAPE\n",
    "pca_data.shape"
   ]
  },
  {
   "cell_type": "code",
   "execution_count": 14,
   "metadata": {},
   "outputs": [
    {
     "name": "stdout",
     "output_type": "stream",
     "text": [
      "30\n"
     ]
    },
    {
     "data": {
      "text/plain": [
       "[<matplotlib.lines.Line2D at 0x7f820f6da438>]"
      ]
     },
     "execution_count": 14,
     "metadata": {},
     "output_type": "execute_result"
    },
    {
     "data": {
      "image/png": "[encoded data removed]",
      "text/plain": [
       "<Figure size 432x288 with 1 Axes>"
      ]
     },
     "metadata": {},
     "output_type": "display_data"
    }
   ],
   "source": [
    "var1 = np.round(pca.explained_variance_ratio_* 100, decimals=1)\n",
    "\n",
    "print(len(var1))\n",
    "\n",
    "plt.plot(var1, color=\"red\")"
   ]
  },
  {
   "cell_type": "code",
   "execution_count": 15,
   "metadata": {},
   "outputs": [
    {
     "data": {
      "image/png": "[encoded data removed]",
      "text/plain": [
       "<Figure size 432x288 with 1 Axes>"
      ]
     },
     "metadata": {},
     "output_type": "display_data"
    }
   ],
   "source": [
    "# SCREE PLOT\n",
    "\n",
    "labels = ['PC' + str(x) for x in range(1, len(var1)+1)]\n",
    " \n",
    "plt.bar( x = range(1,len(var1)+1), height=var1, tick_label=labels, color = \"red\")\n",
    "\n",
    "plt.ylabel('Percentage Of Variance')\n",
    "plt.xlabel('Principal Component')\n",
    "plt.title('Scree Plot')\n",
    "plt.show()"
   ]
  },
  {
   "cell_type": "code",
   "execution_count": 16,
   "metadata": {},
   "outputs": [
    {
     "name": "stdout",
     "output_type": "stream",
     "text": [
      "(30, 30)\n"
     ]
    },
    {
     "data": {
      "text/html": [
       "<div>\n",
       "<style scoped>\n",
       "    .dataframe tbody tr th:only-of-type {\n",
       "        vertical-align: middle;\n",
       "    }\n",
       "\n",
       "    .dataframe tbody tr th {\n",
       "        vertical-align: top;\n",
       "    }\n",
       "\n",
       "    .dataframe thead th {\n",
       "        text-align: right;\n",
       "    }\n",
       "</style>\n",
       "<table border=\"1\" class=\"dataframe\">\n",
       "  <thead>\n",
       "    <tr style=\"text-align: right;\">\n",
       "      <th></th>\n",
       "      <th>PC1</th>\n",
       "      <th>PC2</th>\n",
       "      <th>PC3</th>\n",
       "      <th>PC4</th>\n",
       "      <th>PC5</th>\n",
       "      <th>PC6</th>\n",
       "      <th>PC7</th>\n",
       "      <th>PC8</th>\n",
       "      <th>PC9</th>\n",
       "      <th>PC10</th>\n",
       "      <th>...</th>\n",
       "      <th>PC21</th>\n",
       "      <th>PC22</th>\n",
       "      <th>PC23</th>\n",
       "      <th>PC24</th>\n",
       "      <th>PC25</th>\n",
       "      <th>PC26</th>\n",
       "      <th>PC27</th>\n",
       "      <th>PC28</th>\n",
       "      <th>PC29</th>\n",
       "      <th>PC30</th>\n",
       "    </tr>\n",
       "  </thead>\n",
       "  <tbody>\n",
       "    <tr>\n",
       "      <th>S0</th>\n",
       "      <td>80.788054</td>\n",
       "      <td>-42.851905</td>\n",
       "      <td>64.098577</td>\n",
       "      <td>-29.225743</td>\n",
       "      <td>57.673402</td>\n",
       "      <td>32.757962</td>\n",
       "      <td>4.262289</td>\n",
       "      <td>-25.952323</td>\n",
       "      <td>-32.181255</td>\n",
       "      <td>1.341418</td>\n",
       "      <td>...</td>\n",
       "      <td>5.669498</td>\n",
       "      <td>13.664485</td>\n",
       "      <td>-2.581055</td>\n",
       "      <td>0.306598</td>\n",
       "      <td>3.919343</td>\n",
       "      <td>2.848837</td>\n",
       "      <td>-6.918452</td>\n",
       "      <td>-4.378843</td>\n",
       "      <td>-3.964349</td>\n",
       "      <td>-1.364742e-13</td>\n",
       "    </tr>\n",
       "    <tr>\n",
       "      <th>S1</th>\n",
       "      <td>79.439809</td>\n",
       "      <td>-35.138237</td>\n",
       "      <td>21.343725</td>\n",
       "      <td>-28.550245</td>\n",
       "      <td>-7.086844</td>\n",
       "      <td>29.157748</td>\n",
       "      <td>-9.076113</td>\n",
       "      <td>14.555788</td>\n",
       "      <td>20.234544</td>\n",
       "      <td>-20.421202</td>\n",
       "      <td>...</td>\n",
       "      <td>-5.448694</td>\n",
       "      <td>-9.623318</td>\n",
       "      <td>6.041253</td>\n",
       "      <td>3.315636</td>\n",
       "      <td>-0.947225</td>\n",
       "      <td>21.215075</td>\n",
       "      <td>-30.818631</td>\n",
       "      <td>-37.210154</td>\n",
       "      <td>-9.866719</td>\n",
       "      <td>-8.922030e-14</td>\n",
       "    </tr>\n",
       "    <tr>\n",
       "      <th>S2</th>\n",
       "      <td>80.376919</td>\n",
       "      <td>-32.277537</td>\n",
       "      <td>33.620548</td>\n",
       "      <td>-11.803629</td>\n",
       "      <td>6.815265</td>\n",
       "      <td>30.993416</td>\n",
       "      <td>-26.312035</td>\n",
       "      <td>-24.487740</td>\n",
       "      <td>24.904317</td>\n",
       "      <td>8.168944</td>\n",
       "      <td>...</td>\n",
       "      <td>-3.220263</td>\n",
       "      <td>-11.556986</td>\n",
       "      <td>2.045362</td>\n",
       "      <td>1.245455</td>\n",
       "      <td>2.821620</td>\n",
       "      <td>-18.243068</td>\n",
       "      <td>31.983939</td>\n",
       "      <td>37.990978</td>\n",
       "      <td>20.817208</td>\n",
       "      <td>-1.206257e-13</td>\n",
       "    </tr>\n",
       "    <tr>\n",
       "      <th>S3</th>\n",
       "      <td>78.302767</td>\n",
       "      <td>-12.109371</td>\n",
       "      <td>-2.680822</td>\n",
       "      <td>-28.340234</td>\n",
       "      <td>-20.614806</td>\n",
       "      <td>-2.659018</td>\n",
       "      <td>4.344538</td>\n",
       "      <td>58.825041</td>\n",
       "      <td>-13.897100</td>\n",
       "      <td>-8.790121</td>\n",
       "      <td>...</td>\n",
       "      <td>-0.604370</td>\n",
       "      <td>3.813550</td>\n",
       "      <td>-28.800369</td>\n",
       "      <td>-12.447551</td>\n",
       "      <td>-15.874861</td>\n",
       "      <td>-3.275063</td>\n",
       "      <td>-1.137142</td>\n",
       "      <td>13.659942</td>\n",
       "      <td>8.193283</td>\n",
       "      <td>-3.308465e-14</td>\n",
       "    </tr>\n",
       "    <tr>\n",
       "      <th>S4</th>\n",
       "      <td>84.729241</td>\n",
       "      <td>-3.722892</td>\n",
       "      <td>11.915157</td>\n",
       "      <td>40.863028</td>\n",
       "      <td>-42.455869</td>\n",
       "      <td>7.981303</td>\n",
       "      <td>3.900556</td>\n",
       "      <td>10.562582</td>\n",
       "      <td>31.399211</td>\n",
       "      <td>19.193881</td>\n",
       "      <td>...</td>\n",
       "      <td>25.086644</td>\n",
       "      <td>16.037428</td>\n",
       "      <td>-5.491543</td>\n",
       "      <td>15.672269</td>\n",
       "      <td>11.957696</td>\n",
       "      <td>0.979342</td>\n",
       "      <td>4.156529</td>\n",
       "      <td>-6.527402</td>\n",
       "      <td>-2.332097</td>\n",
       "      <td>-1.952327e-13</td>\n",
       "    </tr>\n",
       "  </tbody>\n",
       "</table>\n",
       "<p>5 rows × 30 columns</p>\n",
       "</div>"
      ],
      "text/plain": [
       "          PC1        PC2        PC3        PC4        PC5        PC6  \\\n",
       "S0  80.788054 -42.851905  64.098577 -29.225743  57.673402  32.757962   \n",
       "S1  79.439809 -35.138237  21.343725 -28.550245  -7.086844  29.157748   \n",
       "S2  80.376919 -32.277537  33.620548 -11.803629   6.815265  30.993416   \n",
       "S3  78.302767 -12.109371  -2.680822 -28.340234 -20.614806  -2.659018   \n",
       "S4  84.729241  -3.722892  11.915157  40.863028 -42.455869   7.981303   \n",
       "\n",
       "          PC7        PC8        PC9       PC10      ...            PC21  \\\n",
       "S0   4.262289 -25.952323 -32.181255   1.341418      ...        5.669498   \n",
       "S1  -9.076113  14.555788  20.234544 -20.421202      ...       -5.448694   \n",
       "S2 -26.312035 -24.487740  24.904317   8.168944      ...       -3.220263   \n",
       "S3   4.344538  58.825041 -13.897100  -8.790121      ...       -0.604370   \n",
       "S4   3.900556  10.562582  31.399211  19.193881      ...       25.086644   \n",
       "\n",
       "         PC22       PC23       PC24       PC25       PC26       PC27  \\\n",
       "S0  13.664485  -2.581055   0.306598   3.919343   2.848837  -6.918452   \n",
       "S1  -9.623318   6.041253   3.315636  -0.947225  21.215075 -30.818631   \n",
       "S2 -11.556986   2.045362   1.245455   2.821620 -18.243068  31.983939   \n",
       "S3   3.813550 -28.800369 -12.447551 -15.874861  -3.275063  -1.137142   \n",
       "S4  16.037428  -5.491543  15.672269  11.957696   0.979342   4.156529   \n",
       "\n",
       "         PC28       PC29          PC30  \n",
       "S0  -4.378843  -3.964349 -1.364742e-13  \n",
       "S1 -37.210154  -9.866719 -8.922030e-14  \n",
       "S2  37.990978  20.817208 -1.206257e-13  \n",
       "S3  13.659942   8.193283 -3.308465e-14  \n",
       "S4  -6.527402  -2.332097 -1.952327e-13  \n",
       "\n",
       "[5 rows x 30 columns]"
      ]
     },
     "execution_count": 16,
     "metadata": {},
     "output_type": "execute_result"
    }
   ],
   "source": [
    "# Now, draw the PC1 and PC2 axis graph\n",
    "pca_df = pd.DataFrame(pca_data, index=['S' + str(x) for x in range(30)], columns=labels)\n",
    "\n",
    "print(pca_df.shape)\n",
    "\n",
    "pca_df.head()"
   ]
  },
  {
   "cell_type": "code",
   "execution_count": 17,
   "metadata": {},
   "outputs": [
    {
     "data": {
      "image/png": "[encoded data removed]",
      "text/plain": [
       "<Figure size 432x288 with 1 Axes>"
      ]
     },
     "metadata": {},
     "output_type": "display_data"
    }
   ],
   "source": [
    "# Scattering PCA\n",
    "plt.scatter(pca_df.PC1, pca_df.PC2, color=\"red\")\n",
    "plt.title('PCA Plot Graph')\n",
    "plt.xlabel('PC1 - {0}%'.format(var1[0]))\n",
    "plt.ylabel('PC2 - {0}%'.format(var1[1]))\n",
    "\n",
    "# Adding labels on each sample by annotation\n",
    "for i in pca_df.index:\n",
    "    plt.annotate(i, ( (pca_df.PC1)[i], (pca_df.PC2)[i] ))\n",
    " \n",
    "plt.show()"
   ]
  },
  {
   "cell_type": "markdown",
   "metadata": {},
   "source": [
    "# Meta Data File"
   ]
  },
  {
   "cell_type": "code",
   "execution_count": 46,
   "metadata": {},
   "outputs": [
    {
     "data": {
      "text/plain": [
       "Text(0,0.5,'Sample')"
      ]
     },
     "execution_count": 46,
     "metadata": {},
     "output_type": "execute_result"
    },
    {
     "data": {
      "image/png": "[encoded data removed]",
      "text/plain": [
       "<Figure size 432x288 with 1 Axes>"
      ]
     },
     "metadata": {},
     "output_type": "display_data"
    }
   ],
   "source": [
    "x1 = np.arange(1, 31)\n",
    "\n",
    "plt.scatter(df_meta.Time, x1, color=\"Red\")\n",
    "\n",
    "for i in range(30):\n",
    "    plt.annotate('S' + str(i+1), ((df_meta.Time)[i], x1[i]))\n",
    "\n",
    "\n",
    "plt.title('Time-sample Graph - GRAPH 2')\n",
    "plt.xlabel('Time')\n",
    "plt.ylabel('Sample')"
   ]
  },
  {
   "cell_type": "markdown",
   "metadata": {},
   "source": [
    "# Conclusion "
   ]
  },
  {
   "cell_type": "markdown",
   "metadata": {},
   "source": [
    "- As we can see there are 10 clusters(similar sample) of samples in the Meta Data file. \n",
    "\n",
    "**CLUSTER 1 - S10, S11, S12**\n",
    "\n",
    "**CLUSTER 2 - S13, S14, S15**\n",
    "\n",
    "**CLUSTER 3 - S7, S8, S9**\n",
    "\n",
    "**CLUSTER 4 - S16, S17, S18**\n",
    "\n",
    "**CLUSTER 5 - S4, S5, S6**\n",
    "\n",
    "**CLUSTER 6 - S13, S14, S15**\n",
    "\n",
    "**CLUSTER 7 - S19, S20, S21**\n",
    "\n",
    "**CLUSTER 9 - S29, S30, S28**\n",
    "\n",
    "**CLUSTER 10 - S25, S26, S27**"
   ]
  },
  {
   "cell_type": "markdown",
   "metadata": {},
   "source": [
    "### The sample which are in the same cluster in Meta Data file are appear to be nearer in PCA Plot, or we can say they are also in the same cluster as in the META-DATA file."
   ]
  },
  {
   "cell_type": "code",
   "execution_count": null,
   "metadata": {},
   "outputs": [],
   "source": []
  }
 ],
 "metadata": {
  "kernelspec": {
   "display_name": "Python 3",
   "language": "python",
   "name": "python3"
  },
  "language_info": {
   "codemirror_mode": {
    "name": "ipython",
    "version": 3
   },
   "file_extension": ".py",
   "mimetype": "text/x-python",
   "name": "python",
   "nbconvert_exporter": "python",
   "pygments_lexer": "ipython3",
   "version": "3.6.5"
  }
 },
 "nbformat": 4,
 "nbformat_minor": 2
}
